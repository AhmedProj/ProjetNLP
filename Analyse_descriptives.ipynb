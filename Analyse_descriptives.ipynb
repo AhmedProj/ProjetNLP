{
 "cells": [
  {
   "cell_type": "code",
   "execution_count": 39,
   "id": "3b0debcd-8722-437b-a4a5-02d38c60bbe2",
   "metadata": {},
   "outputs": [],
   "source": [
    "import pandas as pd\n",
    "import seaborn as sns\n",
    "import matplotlib.pyplot as plt\n",
    "%matplotlib inline\n",
    "from collections import Counter\n",
    "\n",
    "import warnings\n",
    "warnings.filterwarnings(\"ignore\")"
   ]
  },
  {
   "cell_type": "code",
   "execution_count": 40,
   "id": "661b7067-53cf-4743-890e-7f31a6166887",
   "metadata": {},
   "outputs": [
    {
     "data": {
      "text/html": [
       "<div>\n",
       "<style scoped>\n",
       "    .dataframe tbody tr th:only-of-type {\n",
       "        vertical-align: middle;\n",
       "    }\n",
       "\n",
       "    .dataframe tbody tr th {\n",
       "        vertical-align: top;\n",
       "    }\n",
       "\n",
       "    .dataframe thead th {\n",
       "        text-align: right;\n",
       "    }\n",
       "</style>\n",
       "<table border=\"1\" class=\"dataframe\">\n",
       "  <thead>\n",
       "    <tr style=\"text-align: right;\">\n",
       "      <th></th>\n",
       "      <th>firstname</th>\n",
       "      <th>male</th>\n",
       "      <th>female</th>\n",
       "    </tr>\n",
       "  </thead>\n",
       "  <tbody>\n",
       "    <tr>\n",
       "      <th>0</th>\n",
       "      <td>marie</td>\n",
       "      <td>10145</td>\n",
       "      <td>2390322</td>\n",
       "    </tr>\n",
       "    <tr>\n",
       "      <th>1</th>\n",
       "      <td>jean</td>\n",
       "      <td>1869615</td>\n",
       "      <td>6476</td>\n",
       "    </tr>\n",
       "    <tr>\n",
       "      <th>2</th>\n",
       "      <td>pierre</td>\n",
       "      <td>1475841</td>\n",
       "      <td>5047</td>\n",
       "    </tr>\n",
       "    <tr>\n",
       "      <th>3</th>\n",
       "      <td>jeanne</td>\n",
       "      <td>1765</td>\n",
       "      <td>1097397</td>\n",
       "    </tr>\n",
       "    <tr>\n",
       "      <th>4</th>\n",
       "      <td>françois</td>\n",
       "      <td>1089009</td>\n",
       "      <td>5951</td>\n",
       "    </tr>\n",
       "  </tbody>\n",
       "</table>\n",
       "</div>"
      ],
      "text/plain": [
       "  firstname     male   female\n",
       "0     marie    10145  2390322\n",
       "1      jean  1869615     6476\n",
       "2    pierre  1475841     5047\n",
       "3    jeanne     1765  1097397\n",
       "4  françois  1089009     5951"
      ]
     },
     "execution_count": 40,
     "metadata": {},
     "output_type": "execute_result"
    }
   ],
   "source": [
    "df = pd.read_csv('firstname_with_sex.csv', sep=';', encoding='utf-8')\n",
    "df.head()"
   ]
  },
  {
   "cell_type": "code",
   "execution_count": 41,
   "id": "71b5f0e5-4e47-436c-be17-a49b27b2c0cc",
   "metadata": {},
   "outputs": [],
   "source": [
    "df['male_c'] = df.apply(lambda row: '{:.2f}'.format(row['male']/(row['male']+row['female'])*100), axis = 1)\n",
    "df['female_c'] = df.apply(lambda row: '{:.2f}'.format(row['female']/(row['male']+row['female'])*100), axis = 1)\n",
    "df['sex'] = df.apply(lambda row: 1 if row['male']>row['female'] else 0, axis = 1)\n",
    "df['length'] = df.apply(lambda row: len(row['firstname']), axis = 1)\n",
    "\n",
    "df['2l'] = df.apply(lambda row: row['firstname'][-2:], axis = 1)\n",
    "df['1l'] = df.apply(lambda row: row['firstname'][-1], axis = 1)"
   ]
  },
  {
   "cell_type": "code",
   "execution_count": 42,
   "id": "8f28a893-c13b-4149-9ef6-c2d3fb089e4b",
   "metadata": {},
   "outputs": [],
   "source": [
    "def compter(prenom):\n",
    "    voyelles = 0\n",
    "    consonnes = 0\n",
    "    for lettre in prenom.lower():\n",
    "        if lettre in 'aeiouy':\n",
    "            voyelles += 1\n",
    "        elif lettre.isalpha():\n",
    "            consonnes += 1\n",
    "    return voyelles, consonnes"
   ]
  },
  {
   "cell_type": "code",
   "execution_count": 43,
   "id": "8d383393-41b6-410b-889c-e028f7993ae7",
   "metadata": {},
   "outputs": [],
   "source": [
    "df['voyelles'], df['consonnes'] = zip(*df['firstname'].apply(compter))"
   ]
  },
  {
   "cell_type": "code",
   "execution_count": 44,
   "id": "e06ca998-81b1-42b0-9f6d-ac13de198d51",
   "metadata": {},
   "outputs": [
    {
     "data": {
      "text/html": [
       "<div>\n",
       "<style scoped>\n",
       "    .dataframe tbody tr th:only-of-type {\n",
       "        vertical-align: middle;\n",
       "    }\n",
       "\n",
       "    .dataframe tbody tr th {\n",
       "        vertical-align: top;\n",
       "    }\n",
       "\n",
       "    .dataframe thead th {\n",
       "        text-align: right;\n",
       "    }\n",
       "</style>\n",
       "<table border=\"1\" class=\"dataframe\">\n",
       "  <thead>\n",
       "    <tr style=\"text-align: right;\">\n",
       "      <th></th>\n",
       "      <th>firstname</th>\n",
       "      <th>male</th>\n",
       "      <th>female</th>\n",
       "      <th>male_c</th>\n",
       "      <th>female_c</th>\n",
       "      <th>sex</th>\n",
       "      <th>length</th>\n",
       "      <th>2l</th>\n",
       "      <th>1l</th>\n",
       "      <th>voyelles</th>\n",
       "      <th>consonnes</th>\n",
       "    </tr>\n",
       "  </thead>\n",
       "  <tbody>\n",
       "    <tr>\n",
       "      <th>0</th>\n",
       "      <td>marie</td>\n",
       "      <td>10145</td>\n",
       "      <td>2390322</td>\n",
       "      <td>0.42</td>\n",
       "      <td>99.58</td>\n",
       "      <td>0</td>\n",
       "      <td>5</td>\n",
       "      <td>ie</td>\n",
       "      <td>e</td>\n",
       "      <td>3</td>\n",
       "      <td>2</td>\n",
       "    </tr>\n",
       "    <tr>\n",
       "      <th>1</th>\n",
       "      <td>jean</td>\n",
       "      <td>1869615</td>\n",
       "      <td>6476</td>\n",
       "      <td>99.65</td>\n",
       "      <td>0.35</td>\n",
       "      <td>1</td>\n",
       "      <td>4</td>\n",
       "      <td>an</td>\n",
       "      <td>n</td>\n",
       "      <td>2</td>\n",
       "      <td>2</td>\n",
       "    </tr>\n",
       "    <tr>\n",
       "      <th>2</th>\n",
       "      <td>pierre</td>\n",
       "      <td>1475841</td>\n",
       "      <td>5047</td>\n",
       "      <td>99.66</td>\n",
       "      <td>0.34</td>\n",
       "      <td>1</td>\n",
       "      <td>6</td>\n",
       "      <td>re</td>\n",
       "      <td>e</td>\n",
       "      <td>3</td>\n",
       "      <td>3</td>\n",
       "    </tr>\n",
       "    <tr>\n",
       "      <th>3</th>\n",
       "      <td>jeanne</td>\n",
       "      <td>1765</td>\n",
       "      <td>1097397</td>\n",
       "      <td>0.16</td>\n",
       "      <td>99.84</td>\n",
       "      <td>0</td>\n",
       "      <td>6</td>\n",
       "      <td>ne</td>\n",
       "      <td>e</td>\n",
       "      <td>3</td>\n",
       "      <td>3</td>\n",
       "    </tr>\n",
       "    <tr>\n",
       "      <th>4</th>\n",
       "      <td>françois</td>\n",
       "      <td>1089009</td>\n",
       "      <td>5951</td>\n",
       "      <td>99.46</td>\n",
       "      <td>0.54</td>\n",
       "      <td>1</td>\n",
       "      <td>8</td>\n",
       "      <td>is</td>\n",
       "      <td>s</td>\n",
       "      <td>3</td>\n",
       "      <td>5</td>\n",
       "    </tr>\n",
       "  </tbody>\n",
       "</table>\n",
       "</div>"
      ],
      "text/plain": [
       "  firstname     male   female male_c female_c  sex  length  2l 1l  voyelles  \\\n",
       "0     marie    10145  2390322   0.42    99.58    0       5  ie  e         3   \n",
       "1      jean  1869615     6476  99.65     0.35    1       4  an  n         2   \n",
       "2    pierre  1475841     5047  99.66     0.34    1       6  re  e         3   \n",
       "3    jeanne     1765  1097397   0.16    99.84    0       6  ne  e         3   \n",
       "4  françois  1089009     5951  99.46     0.54    1       8  is  s         3   \n",
       "\n",
       "   consonnes  \n",
       "0          2  \n",
       "1          2  \n",
       "2          3  \n",
       "3          3  \n",
       "4          5  "
      ]
     },
     "execution_count": 44,
     "metadata": {},
     "output_type": "execute_result"
    }
   ],
   "source": [
    "df.head()"
   ]
  },
  {
   "cell_type": "markdown",
   "id": "ec7eccb7-e85c-4706-9e71-833fee42acd3",
   "metadata": {},
   "source": [
    "### Distribution des labels"
   ]
  },
  {
   "cell_type": "code",
   "execution_count": 59,
   "id": "d16e2ff5-e785-46e2-993d-dd1ecbaf1fb8",
   "metadata": {},
   "outputs": [
    {
     "data": {
      "image/png": "[encoded data removed]",
      "text/plain": [
       "<Figure size 640x480 with 1 Axes>"
      ]
     },
     "metadata": {},
     "output_type": "display_data"
    }
   ],
   "source": [
    "sns.countplot(data = df, x = df['sex'], hue='sex');"
   ]
  },
  {
   "cell_type": "markdown",
   "id": "b7669e38-be1e-471f-b596-e06c82d2d523",
   "metadata": {},
   "source": [
    "### Autres variables"
   ]
  },
  {
   "cell_type": "code",
   "execution_count": 46,
   "id": "e9216951-0314-4f21-995c-f92d874d21bf",
   "metadata": {},
   "outputs": [
    {
     "data": {
      "image/png": "[encoded data removed]",
      "text/plain": [
       "<Figure size 640x480 with 1 Axes>"
      ]
     },
     "metadata": {},
     "output_type": "display_data"
    }
   ],
   "source": [
    "sns.histplot(data = df, x = df['length'], hue = df['sex']);"
   ]
  },
  {
   "cell_type": "code",
   "execution_count": 47,
   "id": "79d2d6f9-70fa-4f8b-b03c-b4a269206e62",
   "metadata": {},
   "outputs": [
    {
     "data": {
      "image/png": "[encoded data removed]",
      "text/plain": [
       "<Figure size 640x480 with 1 Axes>"
      ]
     },
     "metadata": {},
     "output_type": "display_data"
    }
   ],
   "source": [
    "sns.histplot(data = df, x = df['voyelles'], hue = df['sex']);"
   ]
  },
  {
   "cell_type": "code",
   "execution_count": 48,
   "id": "e2cb9f61-9e25-43b7-a28d-0400089b1278",
   "metadata": {},
   "outputs": [
    {
     "data": {
      "image/png": "[encoded data removed]",
      "text/plain": [
       "<Figure size 640x480 with 1 Axes>"
      ]
     },
     "metadata": {},
     "output_type": "display_data"
    }
   ],
   "source": [
    "sns.histplot(data = df, x = df['consonnes'], hue = df['sex']);"
   ]
  },
  {
   "cell_type": "markdown",
   "id": "1d73e0a4-c844-4114-a255-757b377e9f60",
   "metadata": {},
   "source": [
    "### Test data"
   ]
  },
  {
   "cell_type": "code",
   "execution_count": 49,
   "id": "ee6b6fbe-88a0-49f0-b965-ecbda7391e60",
   "metadata": {},
   "outputs": [
    {
     "data": {
      "text/html": [
       "<div>\n",
       "<style scoped>\n",
       "    .dataframe tbody tr th:only-of-type {\n",
       "        vertical-align: middle;\n",
       "    }\n",
       "\n",
       "    .dataframe tbody tr th {\n",
       "        vertical-align: top;\n",
       "    }\n",
       "\n",
       "    .dataframe thead th {\n",
       "        text-align: right;\n",
       "    }\n",
       "</style>\n",
       "<table border=\"1\" class=\"dataframe\">\n",
       "  <thead>\n",
       "    <tr style=\"text-align: right;\">\n",
       "      <th></th>\n",
       "      <th>prediction</th>\n",
       "      <th>sex</th>\n",
       "    </tr>\n",
       "  </thead>\n",
       "  <tbody>\n",
       "    <tr>\n",
       "      <th>0</th>\n",
       "      <td>nom: Chardon prénom: Marie date_naissance: 30 ...</td>\n",
       "      <td>femme</td>\n",
       "    </tr>\n",
       "    <tr>\n",
       "      <th>1</th>\n",
       "      <td>nom: Lhopital prénom: Louis Jean date_naissanc...</td>\n",
       "      <td>homme</td>\n",
       "    </tr>\n",
       "    <tr>\n",
       "      <th>2</th>\n",
       "      <td>nom: Pyrin prénom: Marie date_naissance: 55 re...</td>\n",
       "      <td>femme</td>\n",
       "    </tr>\n",
       "    <tr>\n",
       "      <th>3</th>\n",
       "      <td>nom: Lavocat prénom: Marie date_naissance: 187...</td>\n",
       "      <td>femme</td>\n",
       "    </tr>\n",
       "    <tr>\n",
       "      <th>4</th>\n",
       "      <td>nom: Benne prénom: Marguerite date_naissance: ...</td>\n",
       "      <td>femme</td>\n",
       "    </tr>\n",
       "  </tbody>\n",
       "</table>\n",
       "</div>"
      ],
      "text/plain": [
       "                                          prediction    sex\n",
       "0  nom: Chardon prénom: Marie date_naissance: 30 ...  femme\n",
       "1  nom: Lhopital prénom: Louis Jean date_naissanc...  homme\n",
       "2  nom: Pyrin prénom: Marie date_naissance: 55 re...  femme\n",
       "3  nom: Lavocat prénom: Marie date_naissance: 187...  femme\n",
       "4  nom: Benne prénom: Marguerite date_naissance: ...  femme"
      ]
     },
     "execution_count": 49,
     "metadata": {},
     "output_type": "execute_result"
    }
   ],
   "source": [
    "df1 = pd.read_csv('transcriptions_with_sex.csv')\n",
    "data = df1[['prediction', 'sex']]\n",
    "data.head()"
   ]
  },
  {
   "cell_type": "code",
   "execution_count": 50,
   "id": "820cdce5-cb88-4149-b7c9-c75593ad890e",
   "metadata": {},
   "outputs": [],
   "source": [
    "# Nettoyer et extraire les mots\n",
    "def split(text):\n",
    "    text = ''.join([char.lower() for char in text])\n",
    "    return text.split()\n",
    "\n",
    "word_counts = Counter()\n",
    "data['prediction'].apply(lambda x: word_counts.update(split(x)))\n",
    "\n",
    "most_common_words = word_counts.most_common(6)  "
   ]
  },
  {
   "cell_type": "code",
   "execution_count": 52,
   "id": "b486a99e-599d-41c8-9c86-1369c81d04a2",
   "metadata": {},
   "outputs": [
    {
     "data": {
      "image/png": "[encoded data removed]",
      "text/plain": [
       "<Figure size 800x400 with 1 Axes>"
      ]
     },
     "metadata": {},
     "output_type": "display_data"
    }
   ],
   "source": [
    "words_df = pd.DataFrame(most_common_words, columns=['Word', 'Frequency'])\n",
    "plt.figure(figsize=(8, 4))\n",
    "sns.barplot(x='Word', y='Frequency', data=words_df, palette='viridis')\n",
    "plt.title('Top 6 des mots les plus fréquents')\n",
    "plt.tight_layout()\n",
    "plt.show();"
   ]
  },
  {
   "cell_type": "code",
   "execution_count": 54,
   "id": "3afd95a4-11c0-4304-95b8-f2a8dd21387d",
   "metadata": {},
   "outputs": [],
   "source": [
    "def extraire_valeurs(phrase):\n",
    "    valeurs = {}\n",
    "    mots = phrase.split()\n",
    "    for i in range(len(mots)):\n",
    "        mot = mots[i]\n",
    "        if mot.endswith(':'):\n",
    "            for mot_tuple in most_common_words:\n",
    "                if mot_tuple[0] == mot:\n",
    "                    if i + 1 < len(mots):\n",
    "                        valeurs[mot[:-1]] = mots[i+1]\n",
    "                    else:\n",
    "                        valeurs[mot[:-1]] = None\n",
    "                    break\n",
    "    return valeurs"
   ]
  },
  {
   "cell_type": "code",
   "execution_count": 55,
   "id": "53f632df-5706-4628-a0dc-114d7caf67b5",
   "metadata": {},
   "outputs": [
    {
     "data": {
      "text/html": [
       "<div>\n",
       "<style scoped>\n",
       "    .dataframe tbody tr th:only-of-type {\n",
       "        vertical-align: middle;\n",
       "    }\n",
       "\n",
       "    .dataframe tbody tr th {\n",
       "        vertical-align: top;\n",
       "    }\n",
       "\n",
       "    .dataframe thead th {\n",
       "        text-align: right;\n",
       "    }\n",
       "</style>\n",
       "<table border=\"1\" class=\"dataframe\">\n",
       "  <thead>\n",
       "    <tr style=\"text-align: right;\">\n",
       "      <th></th>\n",
       "      <th>nom</th>\n",
       "      <th>prénom</th>\n",
       "      <th>date_naissance</th>\n",
       "      <th>lieux_naissance</th>\n",
       "      <th>relation</th>\n",
       "      <th>profession</th>\n",
       "    </tr>\n",
       "  </thead>\n",
       "  <tbody>\n",
       "    <tr>\n",
       "      <th>0</th>\n",
       "      <td>Chardon</td>\n",
       "      <td>Marie</td>\n",
       "      <td>30</td>\n",
       "      <td>\"</td>\n",
       "      <td>NaN</td>\n",
       "      <td>NaN</td>\n",
       "    </tr>\n",
       "    <tr>\n",
       "      <th>1</th>\n",
       "      <td>Lhopital</td>\n",
       "      <td>Louis</td>\n",
       "      <td>67</td>\n",
       "      <td>Sn</td>\n",
       "      <td>NaN</td>\n",
       "      <td>NaN</td>\n",
       "    </tr>\n",
       "    <tr>\n",
       "      <th>2</th>\n",
       "      <td>Pyrin</td>\n",
       "      <td>Marie</td>\n",
       "      <td>55</td>\n",
       "      <td>NaN</td>\n",
       "      <td>d</td>\n",
       "      <td>NaN</td>\n",
       "    </tr>\n",
       "    <tr>\n",
       "      <th>3</th>\n",
       "      <td>Lavocat</td>\n",
       "      <td>Marie</td>\n",
       "      <td>1875</td>\n",
       "      <td>Rigny</td>\n",
       "      <td>NaN</td>\n",
       "      <td>''</td>\n",
       "    </tr>\n",
       "    <tr>\n",
       "      <th>4</th>\n",
       "      <td>Benne</td>\n",
       "      <td>Marguerite</td>\n",
       "      <td>78</td>\n",
       "      <td>id</td>\n",
       "      <td>''</td>\n",
       "      <td>NaN</td>\n",
       "    </tr>\n",
       "  </tbody>\n",
       "</table>\n",
       "</div>"
      ],
      "text/plain": [
       "        nom      prénom date_naissance lieux_naissance relation profession\n",
       "0   Chardon       Marie             30               \"      NaN        NaN\n",
       "1  Lhopital       Louis             67              Sn      NaN        NaN\n",
       "2     Pyrin       Marie             55             NaN        d        NaN\n",
       "3   Lavocat       Marie           1875           Rigny      NaN         ''\n",
       "4     Benne  Marguerite             78              id       ''        NaN"
      ]
     },
     "execution_count": 55,
     "metadata": {},
     "output_type": "execute_result"
    }
   ],
   "source": [
    "data['valeurs'] = data['prediction'].apply(extraire_valeurs)\n",
    "data = pd.DataFrame(data['valeurs'].tolist())\n",
    "data.head()"
   ]
  },
  {
   "cell_type": "code",
   "execution_count": 58,
   "id": "d024b089-8297-4dbf-a704-ef50e312cded",
   "metadata": {},
   "outputs": [
    {
     "data": {
      "text/plain": [
       "nom                 4.0\n",
       "prénom              0.0\n",
       "date_naissance      0.0\n",
       "lieux_naissance    17.0\n",
       "relation           33.0\n",
       "profession         72.0\n",
       "dtype: float64"
      ]
     },
     "execution_count": 58,
     "metadata": {},
     "output_type": "execute_result"
    }
   ],
   "source": [
    "round(data.isna().sum()/data.shape[0]*100)"
   ]
  },
  {
   "cell_type": "code",
   "execution_count": null,
   "id": "06feb4b9-eff8-4032-9a1d-9959e76d4d10",
   "metadata": {},
   "outputs": [],
   "source": []
  }
 ],
 "metadata": {
  "kernelspec": {
   "display_name": "Python 3 (ipykernel)",
   "language": "python",
   "name": "python3"
  },
  "language_info": {
   "codemirror_mode": {
    "name": "ipython",
    "version": 3
   },
   "file_extension": ".py",
   "mimetype": "text/x-python",
   "name": "python",
   "nbconvert_exporter": "python",
   "pygments_lexer": "ipython3",
   "version": "3.11.6"
  }
 },
 "nbformat": 4,
 "nbformat_minor": 5
}
